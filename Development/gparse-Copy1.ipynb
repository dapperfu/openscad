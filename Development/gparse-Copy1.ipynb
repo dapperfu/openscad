{
 "cells": [
  {
   "cell_type": "code",
   "execution_count": 6,
   "metadata": {},
   "outputs": [],
   "source": [
    "import re"
   ]
  },
  {
   "cell_type": "code",
   "execution_count": 7,
   "metadata": {},
   "outputs": [],
   "source": [
    "g_file = \"../build/CR10_0.4mm/Geometry101/Cube_10-CR10_0.4mm-temp_H250-240_B70-40-fine3_2.gcode\"\n",
    "\n",
    "with open(g_file, \"r\") as fid:\n",
    "    g_data = fid.read()\n",
    "g_data = g_data.splitlines()"
   ]
  },
  {
   "cell_type": "code",
   "execution_count": 20,
   "metadata": {},
   "outputs": [],
   "source": [
    "class GLine(object):\n",
    "    def __init__(self, line):\n",
    "        self.line = line\n",
    "        for arg, value in self.args.items():\n",
    "            setattr(self, arg, value)\n",
    "        \n",
    "    @property\n",
    "    def cmd(self):\n",
    "        return self.line.split(\";\")[0].strip()\n",
    "    \n",
    "    @property\n",
    "    def comment(self):\n",
    "        return self.line.split(\";\")[1].strip()\n",
    "    \n",
    "    @property\n",
    "    def cmd_class(self):\n",
    "        return self.cmd.split(\" \")[0].strip()\n",
    "    \n",
    "    @property\n",
    "    def cmd_args(self):\n",
    "        return \" \".join(self.cmd.split(\" \")[1:]).strip()\n",
    "    \n",
    "    @property\n",
    "    def args(self):\n",
    "        tmp_args = dict()   \n",
    "        agument_values = re.compile(\"([A-Z]+)([\\d.]+)\").findall(self.cmd_args)\n",
    "        for arg, value in agument_values:\n",
    "            tmp_args[arg] = float(value)\n",
    "        return tmp_args\n",
    "    \n",
    "    def __getitem__(self, item):\n",
    "        \n",
    "        \n",
    "    def __repr__(self):\n",
    "        return self.line\n",
    "gprog = [GLine(line) for line in g_data]\n",
    "prints = [l for l in gprog if l.cmd_class == 'G1']"
   ]
  },
  {
   "cell_type": "code",
   "execution_count": 21,
   "metadata": {},
   "outputs": [],
   "source": [
    "import os"
   ]
  },
  {
   "cell_type": "code",
   "execution_count": 22,
   "metadata": {},
   "outputs": [
    {
     "data": {
      "text/plain": [
       "'Cube_10-CR10_0.4mm-temp_H250-240_B70-40-fine3_2.gcode'"
      ]
     },
     "execution_count": 22,
     "metadata": {},
     "output_type": "execute_result"
    }
   ],
   "source": [
    "os.path.basename(g_file)"
   ]
  },
  {
   "cell_type": "code",
   "execution_count": 45,
   "metadata": {},
   "outputs": [],
   "source": [
    "import os"
   ]
  },
  {
   "cell_type": "code",
   "execution_count": 46,
   "metadata": {},
   "outputs": [
    {
     "ename": "NameError",
     "evalue": "name 'file' is not defined",
     "output_type": "error",
     "traceback": [
      "\u001b[0;31m---------------------------------------------------------------------------\u001b[0m",
      "\u001b[0;31mNameError\u001b[0m                                 Traceback (most recent call last)",
      "\u001b[0;32m<ipython-input-46-ed2919b99aff>\u001b[0m in \u001b[0;36m<module>\u001b[0;34m()\u001b[0m\n\u001b[0;32m----> 1\u001b[0;31m \u001b[0mos\u001b[0m\u001b[0;34m.\u001b[0m\u001b[0mpath\u001b[0m\u001b[0;34m.\u001b[0m\u001b[0mexists\u001b[0m\u001b[0;34m(\u001b[0m\u001b[0mfile\u001b[0m\u001b[0;34m)\u001b[0m\u001b[0;34m\u001b[0m\u001b[0m\n\u001b[0m",
      "\u001b[0;31mNameError\u001b[0m: name 'file' is not defined"
     ]
    }
   ],
   "source": []
  },
  {
   "cell_type": "code",
   "execution_count": 53,
   "metadata": {},
   "outputs": [],
   "source": [
    "class GProgram(object):\n",
    "    def __init__(self, file):\n",
    "        assert(os.path.exists(file))\n",
    "        self.file = file\n",
    "        with open(self.file, \"r\") as fid:\n",
    "            self.data = fid.read()\n",
    "        self._lines = self.data.splitlines()\n",
    "        \n",
    "        self.lines = [GLine(line) for line in self._lines]\n",
    "    def __getitem__(self, item):\n",
    "        return self.lines[item]\n",
    "        \n",
    "    def __repr__(self):\n",
    "        return \"GProgram<'{}'>\".format(os.path.basename(self.file))\n",
    "\n",
    "cube10 = GProgram(g_file)"
   ]
  },
  {
   "cell_type": "code",
   "execution_count": 54,
   "metadata": {},
   "outputs": [
    {
     "data": {
      "text/plain": [
       "''"
      ]
     },
     "execution_count": 54,
     "metadata": {},
     "output_type": "execute_result"
    }
   ],
   "source": [
    "cube10.lines[0].cmd"
   ]
  },
  {
   "cell_type": "code",
   "execution_count": 55,
   "metadata": {},
   "outputs": [
    {
     "data": {
      "text/plain": [
       "G28 X0 Y0    ;move X/Y to min endstops"
      ]
     },
     "execution_count": 55,
     "metadata": {},
     "output_type": "execute_result"
    }
   ],
   "source": [
    "for line in cube10.lines:\n",
    "    if hasattr(line, \"X\"):\n",
    "        break\n",
    "line"
   ]
  },
  {
   "cell_type": "code",
   "execution_count": 56,
   "metadata": {},
   "outputs": [],
   "source": [
    "z_moves=list()\n",
    "for idx, line in enumerate(cube10.lines):\n",
    "    if hasattr(line, \"Z\"):\n",
    "        z_moves.append((idx,line))"
   ]
  },
  {
   "cell_type": "code",
   "execution_count": 57,
   "metadata": {},
   "outputs": [
    {
     "data": {
      "text/plain": [
       "[(15, G28 Z0         ;move Z to min endstops),\n",
       " (16, G1 Z15.0 F4200 ;move the platform down 15mm),\n",
       " (28, G1 Z0.240 F3600.000 ; move to next layer (0)),\n",
       " (576, G1 Z0.400 F3600.000 ; move to next layer (1)),\n",
       " (621, G1 Z0.560 F3600.000 ; move to next layer (2)),\n",
       " (666, G1 Z0.720 F3600.000 ; move to next layer (3)),\n",
       " (711, G1 Z0.880 F3600.000 ; move to next layer (4)),\n",
       " (756, G1 Z1.040 F3600.000 ; move to next layer (5)),\n",
       " (801, G1 Z1.200 F3600.000 ; move to next layer (6)),\n",
       " (846, G1 Z1.360 F3600.000 ; move to next layer (7)),\n",
       " (891, G1 Z1.520 F3600.000 ; move to next layer (8)),\n",
       " (936, G1 Z1.680 F3600.000 ; move to next layer (9)),\n",
       " (982, G1 Z1.840 F3600.000 ; move to next layer (10)),\n",
       " (1027, G1 Z2.000 F3600.000 ; move to next layer (11)),\n",
       " (1072, G1 Z2.160 F3600.000 ; move to next layer (12)),\n",
       " (1117, G1 Z2.320 F3600.000 ; move to next layer (13)),\n",
       " (1162, G1 Z2.480 F3600.000 ; move to next layer (14)),\n",
       " (1207, G1 Z2.640 F3600.000 ; move to next layer (15)),\n",
       " (1252, G1 Z2.800 F3600.000 ; move to next layer (16)),\n",
       " (1297, G1 Z2.960 F3600.000 ; move to next layer (17)),\n",
       " (1342, G1 Z3.120 F3600.000 ; move to next layer (18)),\n",
       " (1387, G1 Z3.280 F3600.000 ; move to next layer (19)),\n",
       " (1432, G1 Z3.440 F3600.000 ; move to next layer (20)),\n",
       " (1477, G1 Z3.600 F3600.000 ; move to next layer (21)),\n",
       " (1522, G1 Z3.760 F3600.000 ; move to next layer (22)),\n",
       " (1567, G1 Z3.920 F3600.000 ; move to next layer (23)),\n",
       " (1612, G1 Z4.080 F3600.000 ; move to next layer (24)),\n",
       " (1657, G1 Z4.240 F3600.000 ; move to next layer (25)),\n",
       " (1702, G1 Z4.400 F3600.000 ; move to next layer (26)),\n",
       " (1747, G1 Z4.560 F3600.000 ; move to next layer (27)),\n",
       " (1792, G1 Z4.720 F3600.000 ; move to next layer (28)),\n",
       " (1837, G1 Z4.880 F3600.000 ; move to next layer (29)),\n",
       " (1882, G1 Z5.040 F3600.000 ; move to next layer (30)),\n",
       " (1927, G1 Z5.200 F3600.000 ; move to next layer (31)),\n",
       " (1972, G1 Z5.360 F3600.000 ; move to next layer (32)),\n",
       " (2017, G1 Z5.520 F3600.000 ; move to next layer (33)),\n",
       " (2062, G1 Z5.680 F3600.000 ; move to next layer (34)),\n",
       " (2107, G1 Z5.840 F3600.000 ; move to next layer (35)),\n",
       " (2152, G1 Z6.000 F3600.000 ; move to next layer (36)),\n",
       " (2197, G1 Z6.160 F3600.000 ; move to next layer (37)),\n",
       " (2242, G1 Z6.320 F3600.000 ; move to next layer (38)),\n",
       " (2287, G1 Z6.480 F3600.000 ; move to next layer (39)),\n",
       " (2332, G1 Z6.640 F3600.000 ; move to next layer (40)),\n",
       " (2377, G1 Z6.800 F3600.000 ; move to next layer (41)),\n",
       " (2422, G1 Z6.960 F3600.000 ; move to next layer (42)),\n",
       " (2467, G1 Z7.120 F3600.000 ; move to next layer (43)),\n",
       " (2512, G1 Z7.280 F3600.000 ; move to next layer (44)),\n",
       " (2557, G1 Z7.440 F3600.000 ; move to next layer (45)),\n",
       " (2602, G1 Z7.600 F3600.000 ; move to next layer (46)),\n",
       " (2647, G1 Z7.760 F3600.000 ; move to next layer (47)),\n",
       " (2692, G1 Z7.920 F3600.000 ; move to next layer (48)),\n",
       " (2737, G1 Z8.080 F3600.000 ; move to next layer (49)),\n",
       " (2782, G1 Z8.240 F3600.000 ; move to next layer (50)),\n",
       " (2827, G1 Z8.400 F3600.000 ; move to next layer (51)),\n",
       " (2872, G1 Z8.560 F3600.000 ; move to next layer (52)),\n",
       " (2917, G1 Z8.720 F3600.000 ; move to next layer (53)),\n",
       " (2962, G1 Z8.880 F3600.000 ; move to next layer (54)),\n",
       " (3007, G1 Z9.040 F3600.000 ; move to next layer (55)),\n",
       " (3052, G1 Z9.200 F3600.000 ; move to next layer (56)),\n",
       " (3097, G1 Z9.360 F3600.000 ; move to next layer (57)),\n",
       " (3142, G1 Z9.520 F3600.000 ; move to next layer (58)),\n",
       " (3187, G1 Z9.680 F3600.000 ; move to next layer (59)),\n",
       " (3232, G1 Z9.840 F3600.000 ; move to next layer (60)),\n",
       " (3277, G1 Z10.000 F3600.000 ; move to next layer (61))]"
      ]
     },
     "execution_count": 57,
     "metadata": {},
     "output_type": "execute_result"
    }
   ],
   "source": [
    "z_moves"
   ]
  },
  {
   "cell_type": "code",
   "execution_count": 68,
   "metadata": {},
   "outputs": [],
   "source": [
    "first_layer = cube10[28:576]\n",
    "X = [line.X for line in first_layer if hasattr(line, 'X') and hasattr(line, 'E')]\n",
    "Y = [line.Y for line in first_layer if hasattr(line, 'Y') and hasattr(line, 'E')]"
   ]
  },
  {
   "cell_type": "code",
   "execution_count": 69,
   "metadata": {},
   "outputs": [
    {
     "data": {
      "text/plain": [
       "34.715"
      ]
     },
     "execution_count": 69,
     "metadata": {},
     "output_type": "execute_result"
    }
   ],
   "source": [
    "min(X)"
   ]
  },
  {
   "cell_type": "code",
   "execution_count": 72,
   "metadata": {},
   "outputs": [
    {
     "data": {
      "text/plain": [
       "65.285"
      ]
     },
     "execution_count": 72,
     "metadata": {},
     "output_type": "execute_result"
    }
   ],
   "source": [
    "max(X)"
   ]
  },
  {
   "cell_type": "code",
   "execution_count": 74,
   "metadata": {},
   "outputs": [
    {
     "data": {
      "text/plain": [
       "34.715"
      ]
     },
     "execution_count": 74,
     "metadata": {},
     "output_type": "execute_result"
    }
   ],
   "source": [
    "min(Y)"
   ]
  },
  {
   "cell_type": "code",
   "execution_count": 75,
   "metadata": {},
   "outputs": [
    {
     "data": {
      "text/plain": [
       "65.285"
      ]
     },
     "execution_count": 75,
     "metadata": {},
     "output_type": "execute_result"
    }
   ],
   "source": [
    "max(Y)"
   ]
  },
  {
   "cell_type": "code",
   "execution_count": 79,
   "metadata": {},
   "outputs": [],
   "source": [
    "pentultimate_layer = cube10[3232:3277]\n",
    "X = [line.X for line in pentultimate_layer if hasattr(line, 'X') and hasattr(line, 'E')]\n",
    "Y = [line.Y for line in pentultimate_layer if hasattr(line, 'Y') and hasattr(line, 'E')]"
   ]
  },
  {
   "cell_type": "code",
   "execution_count": 80,
   "metadata": {},
   "outputs": [
    {
     "data": {
      "text/plain": [
       "45.2"
      ]
     },
     "execution_count": 80,
     "metadata": {},
     "output_type": "execute_result"
    }
   ],
   "source": [
    "min(X)"
   ]
  },
  {
   "cell_type": "code",
   "execution_count": 81,
   "metadata": {},
   "outputs": [
    {
     "data": {
      "text/plain": [
       "54.8"
      ]
     },
     "execution_count": 81,
     "metadata": {},
     "output_type": "execute_result"
    }
   ],
   "source": [
    "max(X)"
   ]
  },
  {
   "cell_type": "code",
   "execution_count": 82,
   "metadata": {},
   "outputs": [
    {
     "data": {
      "text/plain": [
       "45.2"
      ]
     },
     "execution_count": 82,
     "metadata": {},
     "output_type": "execute_result"
    }
   ],
   "source": [
    "min(Y)"
   ]
  },
  {
   "cell_type": "code",
   "execution_count": 83,
   "metadata": {},
   "outputs": [
    {
     "data": {
      "text/plain": [
       "54.8"
      ]
     },
     "execution_count": 83,
     "metadata": {},
     "output_type": "execute_result"
    }
   ],
   "source": [
    "max(Y)"
   ]
  },
  {
   "cell_type": "code",
   "execution_count": 84,
   "metadata": {},
   "outputs": [
    {
     "data": {
      "text/plain": [
       "9.599999999999994"
      ]
     },
     "execution_count": 84,
     "metadata": {},
     "output_type": "execute_result"
    }
   ],
   "source": [
    "max(Y)-min(Y)"
   ]
  },
  {
   "cell_type": "code",
   "execution_count": null,
   "metadata": {},
   "outputs": [],
   "source": []
  }
 ],
 "metadata": {
  "kernelspec": {
   "display_name": "Python 3",
   "language": "python",
   "name": "python3"
  },
  "language_info": {
   "codemirror_mode": {
    "name": "ipython",
    "version": 3
   },
   "file_extension": ".py",
   "mimetype": "text/x-python",
   "name": "python",
   "nbconvert_exporter": "python",
   "pygments_lexer": "ipython3",
   "version": "3.5.2"
  }
 },
 "nbformat": 4,
 "nbformat_minor": 2
}
